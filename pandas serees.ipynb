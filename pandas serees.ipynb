{
 "cells": [
  {
   "cell_type": "code",
   "execution_count": 1,
   "id": "e78d36aa-6321-4504-9148-5522d174e2cc",
   "metadata": {},
   "outputs": [],
   "source": [
    "import pandas as pd"
   ]
  },
  {
   "cell_type": "code",
   "execution_count": 2,
   "id": "0907b3e7-55c7-4f5d-89b2-a2889319ffeb",
   "metadata": {},
   "outputs": [],
   "source": [
    "age = [ 17, 19, 22, 21, 24, 12, 20]"
   ]
  },
  {
   "cell_type": "code",
   "execution_count": 5,
   "id": "61dc35ab-59eb-4e40-ae86-f7a6f5c051a5",
   "metadata": {},
   "outputs": [],
   "source": [
    "a = pd.Series(age)"
   ]
  },
  {
   "cell_type": "code",
   "execution_count": 6,
   "id": "777e8334-e88f-409f-8833-ff1bacfd20b9",
   "metadata": {},
   "outputs": [
    {
     "data": {
      "text/plain": [
       "0    17\n",
       "1    19\n",
       "2    22\n",
       "3    21\n",
       "4    24\n",
       "5    12\n",
       "6    20\n",
       "dtype: int64"
      ]
     },
     "execution_count": 6,
     "metadata": {},
     "output_type": "execute_result"
    }
   ],
   "source": [
    "a"
   ]
  },
  {
   "cell_type": "code",
   "execution_count": 7,
   "id": "4800d378-d8d7-4ab6-86df-f9bf9cd67b9b",
   "metadata": {},
   "outputs": [
    {
     "name": "stdout",
     "output_type": "stream",
     "text": [
      "21\n"
     ]
    }
   ],
   "source": [
    "print (a[3])"
   ]
  },
  {
   "cell_type": "code",
   "execution_count": 8,
   "id": "69240e2f-1335-4ec7-b812-18ce9263c549",
   "metadata": {},
   "outputs": [],
   "source": [
    "age = [12, 15, 17]"
   ]
  },
  {
   "cell_type": "code",
   "execution_count": 10,
   "id": "1ce0640c-42b3-4bb0-b5c3-492e65c1ff71",
   "metadata": {},
   "outputs": [],
   "source": [
    "a = pd.Series(age, index=['x','y','z'])"
   ]
  },
  {
   "cell_type": "code",
   "execution_count": 11,
   "id": "c3030997-9ea2-4ffd-8bad-ccfeab7335c1",
   "metadata": {},
   "outputs": [
    {
     "data": {
      "text/plain": [
       "x    12\n",
       "y    15\n",
       "z    17\n",
       "dtype: int64"
      ]
     },
     "execution_count": 11,
     "metadata": {},
     "output_type": "execute_result"
    }
   ],
   "source": [
    "a"
   ]
  },
  {
   "cell_type": "code",
   "execution_count": 12,
   "id": "a25379e1-2893-4f3b-924d-0b0e3be2083c",
   "metadata": {},
   "outputs": [
    {
     "name": "stdout",
     "output_type": "stream",
     "text": [
      "12\n"
     ]
    }
   ],
   "source": [
    "print(a['x'])"
   ]
  },
  {
   "cell_type": "code",
   "execution_count": 13,
   "id": "21471f0a-7427-44e2-8f56-8e72dc76117b",
   "metadata": {},
   "outputs": [
    {
     "name": "stderr",
     "output_type": "stream",
     "text": [
      "C:\\Users\\NSTIW Patna\\AppData\\Local\\Temp\\ipykernel_7372\\1109539928.py:1: FutureWarning: Series.__getitem__ treating keys as positions is deprecated. In a future version, integer keys will always be treated as labels (consistent with DataFrame behavior). To access a value by position, use `ser.iloc[pos]`\n",
      "  a[0]\n"
     ]
    },
    {
     "data": {
      "text/plain": [
       "np.int64(12)"
      ]
     },
     "execution_count": 13,
     "metadata": {},
     "output_type": "execute_result"
    }
   ],
   "source": [
    "a[0]"
   ]
  },
  {
   "cell_type": "code",
   "execution_count": 14,
   "id": "81552761-6f14-4873-9207-9bbeb8609bc4",
   "metadata": {},
   "outputs": [],
   "source": [
    "age = {\n",
    "    'x':17,\n",
    "    'y':14,\n",
    "    'z':18\n",
    "}"
   ]
  },
  {
   "cell_type": "code",
   "execution_count": 15,
   "id": "16ef34ad-c30e-4044-81ba-acae1e93438b",
   "metadata": {},
   "outputs": [],
   "source": [
    "a = pd.Series(age)"
   ]
  },
  {
   "cell_type": "code",
   "execution_count": 19,
   "id": "637792b4-4097-499f-8555-5c5134190cda",
   "metadata": {},
   "outputs": [],
   "source": [
    "salary = [30000, 20000, 14000, 25000, 16000]"
   ]
  },
  {
   "cell_type": "code",
   "execution_count": 20,
   "id": "7bd85601-c45f-466f-833f-6d899dbbc590",
   "metadata": {},
   "outputs": [],
   "source": [
    "a = pd.Series(salary)"
   ]
  },
  {
   "cell_type": "code",
   "execution_count": 21,
   "id": "3d764a8e-d7d0-4502-98a3-d2003ea58505",
   "metadata": {},
   "outputs": [
    {
     "data": {
      "text/plain": [
       "0    30000\n",
       "1    20000\n",
       "2    14000\n",
       "3    25000\n",
       "4    16000\n",
       "dtype: int64"
      ]
     },
     "execution_count": 21,
     "metadata": {},
     "output_type": "execute_result"
    }
   ],
   "source": [
    "a"
   ]
  },
  {
   "cell_type": "code",
   "execution_count": 24,
   "id": "ea9572ae-5ade-4a13-9a27-fc88cb132629",
   "metadata": {},
   "outputs": [
    {
     "data": {
      "text/plain": [
       "0    30000\n",
       "1    20000\n",
       "2    14000\n",
       "3    25000\n",
       "dtype: int64"
      ]
     },
     "execution_count": 24,
     "metadata": {},
     "output_type": "execute_result"
    }
   ],
   "source": [
    "a [:4]"
   ]
  },
  {
   "cell_type": "code",
   "execution_count": 25,
   "id": "1d1d997c-35a1-4bcd-8e1a-9f0618b9bd71",
   "metadata": {},
   "outputs": [
    {
     "data": {
      "text/plain": [
       "0    30000\n",
       "2    14000\n",
       "dtype: int64"
      ]
     },
     "execution_count": 25,
     "metadata": {},
     "output_type": "execute_result"
    }
   ],
   "source": [
    "a[0:4:2]"
   ]
  },
  {
   "cell_type": "code",
   "execution_count": 26,
   "id": "7bbb1318-ce48-45fa-b33c-13ebbbcb3128",
   "metadata": {},
   "outputs": [
    {
     "data": {
      "text/plain": [
       "0    30000\n",
       "1    20000\n",
       "2    14000\n",
       "3    25000\n",
       "4    16000\n",
       "dtype: int64"
      ]
     },
     "execution_count": 26,
     "metadata": {},
     "output_type": "execute_result"
    }
   ],
   "source": [
    "a[::]"
   ]
  },
  {
   "cell_type": "code",
   "execution_count": 27,
   "id": "6483a262-1bf3-426f-8575-c6a21c009248",
   "metadata": {},
   "outputs": [
    {
     "data": {
      "text/plain": [
       "np.int64(30000)"
      ]
     },
     "execution_count": 27,
     "metadata": {},
     "output_type": "execute_result"
    }
   ],
   "source": [
    "a.loc[0]"
   ]
  },
  {
   "cell_type": "code",
   "execution_count": 28,
   "id": "d0db9dd2-c851-426c-86bb-bd8e85d8fc83",
   "metadata": {},
   "outputs": [
    {
     "data": {
      "text/plain": [
       "0    30000\n",
       "1    20000\n",
       "2    14000\n",
       "3    25000\n",
       "4    16000\n",
       "dtype: int64"
      ]
     },
     "execution_count": 28,
     "metadata": {},
     "output_type": "execute_result"
    }
   ],
   "source": [
    "a.loc[0:4]"
   ]
  },
  {
   "cell_type": "code",
   "execution_count": 30,
   "id": "c06d385b-21aa-44e3-9fd9-ae2f542378a6",
   "metadata": {},
   "outputs": [],
   "source": [
    "a[0]=50000"
   ]
  },
  {
   "cell_type": "code",
   "execution_count": 31,
   "id": "57a224e9-1eb5-4b17-bdef-776fb1de5ce5",
   "metadata": {},
   "outputs": [
    {
     "data": {
      "text/plain": [
       "0    50000\n",
       "1    20000\n",
       "2    14000\n",
       "3    25000\n",
       "4    16000\n",
       "dtype: int64"
      ]
     },
     "execution_count": 31,
     "metadata": {},
     "output_type": "execute_result"
    }
   ],
   "source": [
    "a"
   ]
  },
  {
   "cell_type": "code",
   "execution_count": 32,
   "id": "588e3319-1555-4902-9e59-8b374bfef2b7",
   "metadata": {},
   "outputs": [
    {
     "data": {
      "text/plain": [
       "dtype('int64')"
      ]
     },
     "execution_count": 32,
     "metadata": {},
     "output_type": "execute_result"
    }
   ],
   "source": [
    "a.dtype"
   ]
  },
  {
   "cell_type": "code",
   "execution_count": 33,
   "id": "b2fb997c-da0d-4109-88e9-4002295217d9",
   "metadata": {},
   "outputs": [
    {
     "data": {
      "text/plain": [
       "(5,)"
      ]
     },
     "execution_count": 33,
     "metadata": {},
     "output_type": "execute_result"
    }
   ],
   "source": [
    "a.shape"
   ]
  },
  {
   "cell_type": "code",
   "execution_count": 34,
   "id": "286bf241-72f2-4ff9-abb0-4081049a80d0",
   "metadata": {},
   "outputs": [
    {
     "data": {
      "text/plain": [
       "5"
      ]
     },
     "execution_count": 34,
     "metadata": {},
     "output_type": "execute_result"
    }
   ],
   "source": [
    "a.size"
   ]
  },
  {
   "cell_type": "code",
   "execution_count": 35,
   "id": "d5ed88ee-17b9-4358-8839-d8848efc85d5",
   "metadata": {},
   "outputs": [
    {
     "data": {
      "text/plain": [
       "array([50000, 20000, 14000, 25000, 16000])"
      ]
     },
     "execution_count": 35,
     "metadata": {},
     "output_type": "execute_result"
    }
   ],
   "source": [
    "a.values"
   ]
  },
  {
   "cell_type": "code",
   "execution_count": 36,
   "id": "ada89799-f3af-4d40-8952-35d4e826ed7e",
   "metadata": {},
   "outputs": [
    {
     "data": {
      "text/plain": [
       "RangeIndex(start=0, stop=5, step=1)"
      ]
     },
     "execution_count": 36,
     "metadata": {},
     "output_type": "execute_result"
    }
   ],
   "source": [
    "a.index"
   ]
  },
  {
   "cell_type": "code",
   "execution_count": 37,
   "id": "af32dc3c-8411-4c3f-ade5-ee94b10b6249",
   "metadata": {},
   "outputs": [
    {
     "data": {
      "text/plain": [
       "0    50002\n",
       "1    20002\n",
       "2    14002\n",
       "3    25002\n",
       "4    16002\n",
       "dtype: int64"
      ]
     },
     "execution_count": 37,
     "metadata": {},
     "output_type": "execute_result"
    }
   ],
   "source": [
    "a+2"
   ]
  },
  {
   "cell_type": "code",
   "execution_count": 38,
   "id": "85b8f6b6-e948-4b7f-884d-fdee0fa122f1",
   "metadata": {},
   "outputs": [
    {
     "data": {
      "text/plain": [
       "0    49998\n",
       "1    19998\n",
       "2    13998\n",
       "3    24998\n",
       "4    15998\n",
       "dtype: int64"
      ]
     },
     "execution_count": 38,
     "metadata": {},
     "output_type": "execute_result"
    }
   ],
   "source": [
    "a-2"
   ]
  },
  {
   "cell_type": "code",
   "execution_count": 39,
   "id": "2f58a483-1e69-410e-9711-2d21f8b9b199",
   "metadata": {},
   "outputs": [
    {
     "data": {
      "text/plain": [
       "0    50000\n",
       "1    20000\n",
       "2    14000\n",
       "3    25000\n",
       "4    16000\n",
       "dtype: int64"
      ]
     },
     "execution_count": 39,
     "metadata": {},
     "output_type": "execute_result"
    }
   ],
   "source": [
    "a"
   ]
  },
  {
   "cell_type": "code",
   "execution_count": 40,
   "id": "820666fd-e888-4c2b-bdcb-aa4820774986",
   "metadata": {},
   "outputs": [
    {
     "data": {
      "text/plain": [
       "np.float64(25000.0)"
      ]
     },
     "execution_count": 40,
     "metadata": {},
     "output_type": "execute_result"
    }
   ],
   "source": [
    "a.mean()"
   ]
  },
  {
   "cell_type": "code",
   "execution_count": 41,
   "id": "0833a431-0f63-4a18-9af9-8fb3b05b7717",
   "metadata": {},
   "outputs": [
    {
     "data": {
      "text/plain": [
       "np.float64(20000.0)"
      ]
     },
     "execution_count": 41,
     "metadata": {},
     "output_type": "execute_result"
    }
   ],
   "source": [
    "a.median()"
   ]
  },
  {
   "cell_type": "code",
   "execution_count": 42,
   "id": "c8b679a0-2cfa-469d-88b4-4b0dbf34caa7",
   "metadata": {},
   "outputs": [
    {
     "data": {
      "text/plain": [
       "0    14000\n",
       "1    16000\n",
       "2    20000\n",
       "3    25000\n",
       "4    50000\n",
       "dtype: int64"
      ]
     },
     "execution_count": 42,
     "metadata": {},
     "output_type": "execute_result"
    }
   ],
   "source": [
    "a.mode()"
   ]
  },
  {
   "cell_type": "code",
   "execution_count": 43,
   "id": "49d2d7e7-b1f4-453e-8938-5e75d25fd7e5",
   "metadata": {},
   "outputs": [
    {
     "data": {
      "text/plain": [
       "np.float64(14594.519519326424)"
      ]
     },
     "execution_count": 43,
     "metadata": {},
     "output_type": "execute_result"
    }
   ],
   "source": [
    "a.std()"
   ]
  },
  {
   "cell_type": "code",
   "execution_count": 44,
   "id": "e51ce0a4-82d1-4b34-b111-080d6cefbdb2",
   "metadata": {},
   "outputs": [
    {
     "data": {
      "text/plain": [
       "np.float64(213000000.0)"
      ]
     },
     "execution_count": 44,
     "metadata": {},
     "output_type": "execute_result"
    }
   ],
   "source": [
    "a.var()"
   ]
  },
  {
   "cell_type": "code",
   "execution_count": 45,
   "id": "a442bba6-1c42-4dcb-bff0-61f918c52aa8",
   "metadata": {},
   "outputs": [
    {
     "name": "stdout",
     "output_type": "stream",
     "text": [
      "<class 'pandas.core.series.Series'>\n",
      "RangeIndex: 5 entries, 0 to 4\n",
      "Series name: None\n",
      "Non-Null Count  Dtype\n",
      "--------------  -----\n",
      "5 non-null      int64\n",
      "dtypes: int64(1)\n",
      "memory usage: 172.0 bytes\n"
     ]
    }
   ],
   "source": [
    "a.info()"
   ]
  },
  {
   "cell_type": "code",
   "execution_count": 46,
   "id": "0bf12d50-29c6-4fab-88ff-41fa6276dbbd",
   "metadata": {},
   "outputs": [
    {
     "data": {
      "text/plain": [
       "0    55000.0\n",
       "1    22000.0\n",
       "2    15400.0\n",
       "3    27500.0\n",
       "4    17600.0\n",
       "dtype: float64"
      ]
     },
     "execution_count": 46,
     "metadata": {},
     "output_type": "execute_result"
    }
   ],
   "source": [
    "a.apply(lambda x:(x+x*0.1))"
   ]
  },
  {
   "cell_type": "code",
   "execution_count": 47,
   "id": "511617e0-1ffe-4a1b-8094-e39b04f212b4",
   "metadata": {},
   "outputs": [],
   "source": [
    "#Text manipulation"
   ]
  },
  {
   "cell_type": "code",
   "execution_count": 52,
   "id": "264aecba-96a8-4236-97c5-e6e7709bdc33",
   "metadata": {},
   "outputs": [],
   "source": [
    "a = pd.Series(['sudarshan', 'rajnish', 'shivam', 'piyush'])"
   ]
  },
  {
   "cell_type": "code",
   "execution_count": 53,
   "id": "0c23282e-ac03-479d-86a8-d2d7825203f9",
   "metadata": {},
   "outputs": [
    {
     "data": {
      "text/plain": [
       "0    SUDARSHAN\n",
       "1      RAJNISH\n",
       "2       SHIVAM\n",
       "3       PIYUSH\n",
       "dtype: object"
      ]
     },
     "execution_count": 53,
     "metadata": {},
     "output_type": "execute_result"
    }
   ],
   "source": [
    "a.str.upper()"
   ]
  },
  {
   "cell_type": "code",
   "execution_count": 54,
   "id": "e9401322-b51f-42ee-b240-d25302727778",
   "metadata": {},
   "outputs": [],
   "source": [
    "age = [18,None, 15, 20,26,None,12]"
   ]
  },
  {
   "cell_type": "code",
   "execution_count": 55,
   "id": "6b859293-8c13-4351-b3b4-5b4a1db7c2a0",
   "metadata": {},
   "outputs": [],
   "source": [
    "a = pd.Series(age)"
   ]
  },
  {
   "cell_type": "code",
   "execution_count": 56,
   "id": "eadfa900-88af-4de3-90c4-d480be1640fa",
   "metadata": {},
   "outputs": [
    {
     "data": {
      "text/plain": [
       "0    18.0\n",
       "1     NaN\n",
       "2    15.0\n",
       "3    20.0\n",
       "4    26.0\n",
       "5     NaN\n",
       "6    12.0\n",
       "dtype: float64"
      ]
     },
     "execution_count": 56,
     "metadata": {},
     "output_type": "execute_result"
    }
   ],
   "source": [
    "a"
   ]
  },
  {
   "cell_type": "code",
   "execution_count": 57,
   "id": "cdb00479-732c-45a0-9661-3a74958b325f",
   "metadata": {},
   "outputs": [
    {
     "data": {
      "text/plain": [
       "0    False\n",
       "1     True\n",
       "2    False\n",
       "3    False\n",
       "4    False\n",
       "5     True\n",
       "6    False\n",
       "dtype: bool"
      ]
     },
     "execution_count": 57,
     "metadata": {},
     "output_type": "execute_result"
    }
   ],
   "source": [
    "a.isna()"
   ]
  },
  {
   "cell_type": "code",
   "execution_count": 58,
   "id": "b8d97ce7-c124-4885-ba71-88a64661c203",
   "metadata": {},
   "outputs": [
    {
     "data": {
      "text/plain": [
       "0     18.0\n",
       "1    111.0\n",
       "2     15.0\n",
       "3     20.0\n",
       "4     26.0\n",
       "5    111.0\n",
       "6     12.0\n",
       "dtype: float64"
      ]
     },
     "execution_count": 58,
     "metadata": {},
     "output_type": "execute_result"
    }
   ],
   "source": [
    "a.fillna(111)"
   ]
  },
  {
   "cell_type": "code",
   "execution_count": 59,
   "id": "b5bc2fec-3cea-494a-afa7-b547f7bd73ac",
   "metadata": {},
   "outputs": [
    {
     "data": {
      "text/plain": [
       "0    18.0\n",
       "2    15.0\n",
       "3    20.0\n",
       "4    26.0\n",
       "6    12.0\n",
       "dtype: float64"
      ]
     },
     "execution_count": 59,
     "metadata": {},
     "output_type": "execute_result"
    }
   ],
   "source": [
    "a.dropna()"
   ]
  },
  {
   "cell_type": "code",
   "execution_count": null,
   "id": "58ef4d2e-9397-4ffc-be0a-e344f6dc7c6d",
   "metadata": {},
   "outputs": [],
   "source": [
    "#The end "
   ]
  }
 ],
 "metadata": {
  "kernelspec": {
   "display_name": "Python 3 (ipykernel)",
   "language": "python",
   "name": "python3"
  },
  "language_info": {
   "codemirror_mode": {
    "name": "ipython",
    "version": 3
   },
   "file_extension": ".py",
   "mimetype": "text/x-python",
   "name": "python",
   "nbconvert_exporter": "python",
   "pygments_lexer": "ipython3",
   "version": "3.12.8"
  }
 },
 "nbformat": 4,
 "nbformat_minor": 5
}
